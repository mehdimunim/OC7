{
 "cells": [
  {
   "cell_type": "markdown",
   "metadata": {},
   "source": [
    "# Exploration des données de tweets\n",
    "\n",
    "**Auteur :** Mehdi MUNIM\n",
    "\n",
    "**Date :** 2023-11-26\n",
    "\n",
    "**Description :**\n",
    "\n",
    "Ce notebook explore les données de tweets afin de mieux comprendre leurs caractéristiques et de préparer les étapes de prétraitement et de modélisation."
   ]
  },
  {
   "cell_type": "code",
   "execution_count": null,
   "metadata": {
    "vscode": {
     "languageId": "plaintext"
    }
   },
   "outputs": [],
   "source": [
    "#@title 1. Importation des librairies\n",
    "\n",
    "# Librairies pour la manipulation et l'analyse des données\n",
    "import pandas as pd\n",
    "import numpy as np\n",
    "\n",
    "# Librairies pour le traitement du langage naturel (NLP)\n",
    "import nltk\n",
    "from nltk.corpus import stopwords\n",
    "from nltk.stem import WordNetLemmatizer\n",
    "import re\n",
    "\n",
    "# Librairies pour la visualisation\n",
    "import matplotlib.pyplot as plt\n",
    "import seaborn as sns\n",
    "\n",
    "# Librairies pour la sauvegarde des données\n",
    "import os\n",
    "import pickle\n",
    "\n",
    "# Téléchargement des ressources NLTK\n",
    "nltk.download('stopwords')\n",
    "nltk.download('wordnet')"
   ]
  },
  {
   "cell_type": "markdown",
   "metadata": {},
   "source": [
    "## 2. Chargement et aperçu des données"
   ]
  },
  {
   "cell_type": "code",
   "execution_count": null,
   "metadata": {
    "vscode": {
     "languageId": "plaintext"
    }
   },
   "outputs": [],
   "source": [
    "#@title 2.1 Chargement des données\n",
    "\n",
    "# Téléchargement et décompression du fichier zip\n",
    "!wget \"https://s3-eu-west-1.amazonaws.com/static.oc-static.com/prod/courses/files/AI+Engineer/Project+7%20-%20D%C3%A9tectez%20les%20Bad%20Buzz%20gr%C3%A2ce%20au%20Deep%20Learning/sentiment140.zip\"\n",
    "!unzip sentiment140.zip\n",
    "\n",
    "# Charger les données du fichier CSV\n",
    "df = pd.read_csv('training.1600000.processed.noemoticon.csv', encoding='latin-1', header=None)"
   ]
  },
  {
   "cell_type": "code",
   "execution_count": null,
   "metadata": {
    "vscode": {
     "languageId": "plaintext"
    }
   },
   "outputs": [],
   "source": [
    "#@title 2.2 Aperçu des données\n",
    "\n",
    "# Afficher les premières lignes du DataFrame\n",
    "print(\"Premières lignes du DataFrame :\")\n",
    "display(df.head())"
   ]
  },
  {
   "cell_type": "code",
   "execution_count": null,
   "metadata": {
    "vscode": {
     "languageId": "plaintext"
    }
   },
   "outputs": [],
   "source": [
    "#@title 2.3 Informations sur les données\n",
    "\n",
    "# Afficher les noms de colonnes\n",
    "print(\"\\nNoms de colonnes :\")\n",
    "print(df.columns)\n",
    "\n",
    "# Afficher les types de données et les informations manquantes\n",
    "print(\"\\nInformations sur le DataFrame :\")\n",
    "df.info()"
   ]
  },
  {
   "cell_type": "code",
   "execution_count": null,
   "metadata": {
    "vscode": {
     "languageId": "plaintext"
    }
   },
   "outputs": [],
   "source": [
    "#@title 2.4 Statistiques descriptives\n",
    "\n",
    "# Afficher les statistiques descriptives\n",
    "print(\"\\nStatistiques descriptives :\")\n",
    "display(df.describe())"
   ]
  },
  {
   "cell_type": "markdown",
   "metadata": {},
   "source": [
    "## 3. Analyse exploratoire"
   ]
  },
  {
   "cell_type": "code",
   "execution_count": null,
   "metadata": {
    "vscode": {
     "languageId": "plaintext"
    }
   },
   "outputs": [],
   "source": [
    "#@title 3.1 Distribution des classes\n",
    "\n",
    "# Afficher la distribution des sentiments (0 = négatif, 4 = positif)\n",
    "sns.countplot(x=0, data=df)\n",
    "plt.title('Distribution des sentiments')\n",
    "plt.show()"
   ]
  },
  {
   "cell_type": "code",
   "execution_count": null,
   "metadata": {
    "vscode": {
     "languageId": "plaintext"
    }
   },
   "outputs": [],
   "source": [
    "#@title 3.1 Distribution des classes\n",
    "\n",
    "# Afficher la distribution des sentiments (0 = négatif, 4 = positif)\n",
    "sns.countplot(x=0, data=df)\n",
    "plt.title('Distribution des sentiments')\n",
    "plt.show()"
   ]
  },
  {
   "cell_type": "code",
   "execution_count": null,
   "metadata": {
    "vscode": {
     "languageId": "plaintext"
    }
   },
   "outputs": [],
   "source": [
    "#@title 3.2 Longueur des tweets\n",
    "\n",
    "# Calculer la longueur des tweets\n",
    "df['longueur_tweet'] = df[5].apply(len)\n",
    "\n",
    "# Afficher la distribution de la longueur des tweets\n",
    "sns.histplot(df['longueur_tweet'], bins=50)\n",
    "plt.title('Distribution de la longueur des tweets')\n",
    "plt.xlabel('Longueur du tweet')\n",
    "plt.ylabel('Nombre de tweets')\n",
    "plt.show()"
   ]
  },
  {
   "cell_type": "code",
   "execution_count": null,
   "metadata": {
    "vscode": {
     "languageId": "plaintext"
    }
   },
   "outputs": [],
   "source": [
    "#@title 3.3 Fréquence des mots\n",
    "\n",
    "from collections import Counter\n",
    "\n",
    "# Calculer la fréquence des mots\n",
    "all_words = ' '.join(df[5].tolist()).split()\n",
    "word_counts = Counter(all_words)\n",
    "\n",
    "# Afficher les 20 mots les plus fréquents\n",
    "print(\"20 mots les plus fréquents :\")\n",
    "print(word_counts.most_common(20))"
   ]
  },
  {
   "cell_type": "code",
   "execution_count": null,
   "metadata": {
    "vscode": {
     "languageId": "plaintext"
    }
   },
   "outputs": [],
   "source": [
    "#@title 3.4 Nuage de mots\n",
    "\n",
    "from wordcloud import WordCloud\n",
    "\n",
    "# Créer un nuage de mots\n",
    "wordcloud = WordCloud(width=800, height=400, background_color='white').generate_from_frequencies(word_counts)\n",
    "\n",
    "plt.figure(figsize=(10, 5))\n",
    "plt.imshow(wordcloud, interpolation='bilinear')\n",
    "plt.axis('off')\n",
    "plt.title('Nuage de mots')\n",
    "plt.show()"
   ]
  },
  {
   "cell_type": "markdown",
   "metadata": {},
   "source": [
    "## 4. Conclusion\n",
    "\n",
    "Dans ce notebook, nous avons exploré les données de tweets en effectuant une analyse descriptive et une analyse exploratoire. \n",
    "\n",
    "Nous avons notamment observé :\n",
    "\n",
    "* La distribution des sentiments (classes équilibrées).\n",
    "* La longueur des tweets (distribution asymétrique).\n",
    "* La fréquence des mots (mots les plus fréquents).\n",
    "* Un nuage de mots pour visualiser les termes importants.\n",
    "\n",
    "Ces analyses nous permettent de mieux comprendre les données et de préparer les étapes de prétraitement et de modélisation.\n"
   ]
  }
 ],
 "metadata": {
  "language_info": {
   "name": "python"
  }
 },
 "nbformat": 4,
 "nbformat_minor": 2
}
