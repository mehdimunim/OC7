{
 "cells": [
  {
   "cell_type": "markdown",
   "metadata": {},
   "source": [
    "# Prétraitement des données de tweets\n",
    "\n",
    "Ce notebook prétraite les données de tweets en utilisant les fonctions définies dans le fichier `preprocessing.py`.\n",
    "\n",
    "Nous préparons nos données au machine learning (nettoyage, vectorisation)"
   ]
  },
  {
   "cell_type": "markdown",
   "metadata": {},
   "source": [
    "## 1 - Importations des librairies"
   ]
  },
  {
   "cell_type": "code",
   "execution_count": 1,
   "metadata": {
    "execution": {
     "iopub.execute_input": "2025-02-11T10:36:10.486521Z",
     "iopub.status.busy": "2025-02-11T10:36:10.485756Z",
     "iopub.status.idle": "2025-02-11T10:36:13.189896Z",
     "shell.execute_reply": "2025-02-11T10:36:13.188807Z",
     "shell.execute_reply.started": "2025-02-11T10:36:10.486437Z"
    }
   },
   "outputs": [],
   "source": [
    "import pandas as pd\n",
    "import seaborn as sns\n",
    "import matplotlib.pyplot as plt\n",
    "import sys\n",
    "\n",
    "# Ajouter le chemin du dossier src pour importer les modules\n",
    "sys.path.append('../src')\n",
    "from preprocessing import *\n",
    "from clean_tweet import *"
   ]
  },
  {
   "cell_type": "markdown",
   "metadata": {},
   "source": [
    "## 2. Chargement des données"
   ]
  },
  {
   "cell_type": "code",
   "execution_count": 2,
   "metadata": {
    "execution": {
     "iopub.execute_input": "2025-02-11T10:36:13.191769Z",
     "iopub.status.busy": "2025-02-11T10:36:13.190922Z",
     "iopub.status.idle": "2025-02-11T10:36:17.866890Z",
     "shell.execute_reply": "2025-02-11T10:36:17.865178Z",
     "shell.execute_reply.started": "2025-02-11T10:36:13.191707Z"
    }
   },
   "outputs": [
    {
     "name": "stdout",
     "output_type": "stream",
     "text": [
      "Premières lignes du DataFrame :\n"
     ]
    },
    {
     "data": {
      "text/html": [
       "<div>\n",
       "<style scoped>\n",
       "    .dataframe tbody tr th:only-of-type {\n",
       "        vertical-align: middle;\n",
       "    }\n",
       "\n",
       "    .dataframe tbody tr th {\n",
       "        vertical-align: top;\n",
       "    }\n",
       "\n",
       "    .dataframe thead th {\n",
       "        text-align: right;\n",
       "    }\n",
       "</style>\n",
       "<table border=\"1\" class=\"dataframe\">\n",
       "  <thead>\n",
       "    <tr style=\"text-align: right;\">\n",
       "      <th></th>\n",
       "      <th>sentiment</th>\n",
       "      <th>id</th>\n",
       "      <th>date</th>\n",
       "      <th>query</th>\n",
       "      <th>user</th>\n",
       "      <th>text</th>\n",
       "    </tr>\n",
       "  </thead>\n",
       "  <tbody>\n",
       "    <tr>\n",
       "      <th>0</th>\n",
       "      <td>0</td>\n",
       "      <td>1467810369</td>\n",
       "      <td>Mon Apr 06 22:19:45 PDT 2009</td>\n",
       "      <td>NO_QUERY</td>\n",
       "      <td>_TheSpecialOne_</td>\n",
       "      <td>@switchfoot http://twitpic.com/2y1zl - Awww, t...</td>\n",
       "    </tr>\n",
       "    <tr>\n",
       "      <th>1</th>\n",
       "      <td>0</td>\n",
       "      <td>1467810672</td>\n",
       "      <td>Mon Apr 06 22:19:49 PDT 2009</td>\n",
       "      <td>NO_QUERY</td>\n",
       "      <td>scotthamilton</td>\n",
       "      <td>is upset that he can't update his Facebook by ...</td>\n",
       "    </tr>\n",
       "    <tr>\n",
       "      <th>2</th>\n",
       "      <td>0</td>\n",
       "      <td>1467810917</td>\n",
       "      <td>Mon Apr 06 22:19:53 PDT 2009</td>\n",
       "      <td>NO_QUERY</td>\n",
       "      <td>mattycus</td>\n",
       "      <td>@Kenichan I dived many times for the ball. Man...</td>\n",
       "    </tr>\n",
       "    <tr>\n",
       "      <th>3</th>\n",
       "      <td>0</td>\n",
       "      <td>1467811184</td>\n",
       "      <td>Mon Apr 06 22:19:57 PDT 2009</td>\n",
       "      <td>NO_QUERY</td>\n",
       "      <td>ElleCTF</td>\n",
       "      <td>my whole body feels itchy and like its on fire</td>\n",
       "    </tr>\n",
       "    <tr>\n",
       "      <th>4</th>\n",
       "      <td>0</td>\n",
       "      <td>1467811193</td>\n",
       "      <td>Mon Apr 06 22:19:57 PDT 2009</td>\n",
       "      <td>NO_QUERY</td>\n",
       "      <td>Karoli</td>\n",
       "      <td>@nationwideclass no, it's not behaving at all....</td>\n",
       "    </tr>\n",
       "  </tbody>\n",
       "</table>\n",
       "</div>"
      ],
      "text/plain": [
       "   sentiment          id                          date     query  \\\n",
       "0          0  1467810369  Mon Apr 06 22:19:45 PDT 2009  NO_QUERY   \n",
       "1          0  1467810672  Mon Apr 06 22:19:49 PDT 2009  NO_QUERY   \n",
       "2          0  1467810917  Mon Apr 06 22:19:53 PDT 2009  NO_QUERY   \n",
       "3          0  1467811184  Mon Apr 06 22:19:57 PDT 2009  NO_QUERY   \n",
       "4          0  1467811193  Mon Apr 06 22:19:57 PDT 2009  NO_QUERY   \n",
       "\n",
       "              user                                               text  \n",
       "0  _TheSpecialOne_  @switchfoot http://twitpic.com/2y1zl - Awww, t...  \n",
       "1    scotthamilton  is upset that he can't update his Facebook by ...  \n",
       "2         mattycus  @Kenichan I dived many times for the ball. Man...  \n",
       "3          ElleCTF    my whole body feels itchy and like its on fire   \n",
       "4           Karoli  @nationwideclass no, it's not behaving at all....  "
      ]
     },
     "metadata": {},
     "output_type": "display_data"
    }
   ],
   "source": [
    "#@title 2.1 Chargement des données\n",
    "\n",
    "# Charger les données du fichier CSV\n",
    "df = pd.read_csv('../data/raw/training.1600000.processed.noemoticon.csv', encoding='latin-1', header=None)\n",
    "\n",
    "# Renommer les colonnes\n",
    "df.columns = ['sentiment', 'id', 'date', 'query', 'user', 'text']\n",
    "\n",
    "# Afficher les premières lignes du DataFrame\n",
    "print(\"Premières lignes du DataFrame :\")\n",
    "display(df.head())"
   ]
  },
  {
   "cell_type": "markdown",
   "metadata": {},
   "source": [
    "## 3. Échantillonage des données"
   ]
  },
  {
   "cell_type": "code",
   "execution_count": 3,
   "metadata": {
    "execution": {
     "iopub.execute_input": "2025-02-11T10:36:17.871233Z",
     "iopub.status.busy": "2025-02-11T10:36:17.870357Z",
     "iopub.status.idle": "2025-02-11T10:36:19.733937Z",
     "shell.execute_reply": "2025-02-11T10:36:19.732635Z",
     "shell.execute_reply.started": "2025-02-11T10:36:17.871184Z"
    }
   },
   "outputs": [],
   "source": [
    "\n",
    "# Mélanger les données\n",
    "df = df.sample(frac=1)\n",
    "\n",
    "# Échantillonner 10 % des données\n",
    "df = df.sample(frac=0.1)"
   ]
  },
  {
   "cell_type": "code",
   "execution_count": 4,
   "metadata": {
    "execution": {
     "iopub.execute_input": "2025-02-11T10:36:19.735877Z",
     "iopub.status.busy": "2025-02-11T10:36:19.735257Z",
     "iopub.status.idle": "2025-02-11T10:36:20.430105Z",
     "shell.execute_reply": "2025-02-11T10:36:20.426116Z",
     "shell.execute_reply.started": "2025-02-11T10:36:19.735824Z"
    }
   },
   "outputs": [
    {
     "data": {
      "image/png": "[encoded data removed]",
      "text/plain": [
       "<Figure size 800x600 with 1 Axes>"
      ]
     },
     "metadata": {},
     "output_type": "display_data"
    }
   ],
   "source": [
    "# Afficher la distribution des sentiments après l'échantillonnage\n",
    "plt.figure(figsize=(8, 6))\n",
    "ax = sns.countplot(x='sentiment', data=df)\n",
    "\n",
    "# Ajouter les annotations sur les barres\n",
    "for p in ax.patches:\n",
    "    ax.annotate(f'{p.get_height()}', (p.get_x() + p.get_width() / 2., p.get_height()),\n",
    "                ha='center', va='center', fontsize=10, color='black', xytext=(0, 5),\n",
    "                textcoords='offset points')\n",
    "\n",
    "plt.title('Distribution des sentiments après échantillonnage')\n",
    "plt.show()\n"
   ]
  },
  {
   "cell_type": "markdown",
   "metadata": {},
   "source": [
    "Après sampling, les classes restent bien équilibrées entre sentiment 4 (positif) et sentiment 0 (négatif)"
   ]
  },
  {
   "cell_type": "markdown",
   "metadata": {},
   "source": [
    "## 4. Prétraitement des données"
   ]
  },
  {
   "cell_type": "markdown",
   "metadata": {},
   "source": [
    "### 4.1 - Nettoyage du texte"
   ]
  },
  {
   "cell_type": "code",
   "execution_count": 5,
   "metadata": {
    "execution": {
     "iopub.execute_input": "2025-02-11T10:36:20.432236Z",
     "iopub.status.busy": "2025-02-11T10:36:20.431515Z",
     "iopub.status.idle": "2025-02-11T10:36:52.393769Z",
     "shell.execute_reply": "2025-02-11T10:36:52.392885Z",
     "shell.execute_reply.started": "2025-02-11T10:36:20.432179Z"
    }
   },
   "outputs": [
    {
     "name": "stdout",
     "output_type": "stream",
     "text": [
      "Premières lignes du DataFrame avec les tweets nettoyés :\n"
     ]
    },
    {
     "data": {
      "text/html": [
       "<div>\n",
       "<style scoped>\n",
       "    .dataframe tbody tr th:only-of-type {\n",
       "        vertical-align: middle;\n",
       "    }\n",
       "\n",
       "    .dataframe tbody tr th {\n",
       "        vertical-align: top;\n",
       "    }\n",
       "\n",
       "    .dataframe thead th {\n",
       "        text-align: right;\n",
       "    }\n",
       "</style>\n",
       "<table border=\"1\" class=\"dataframe\">\n",
       "  <thead>\n",
       "    <tr style=\"text-align: right;\">\n",
       "      <th></th>\n",
       "      <th>sentiment</th>\n",
       "      <th>id</th>\n",
       "      <th>date</th>\n",
       "      <th>query</th>\n",
       "      <th>user</th>\n",
       "      <th>text</th>\n",
       "    </tr>\n",
       "  </thead>\n",
       "  <tbody>\n",
       "    <tr>\n",
       "      <th>75592</th>\n",
       "      <td>0</td>\n",
       "      <td>1695242707</td>\n",
       "      <td>Mon May 04 05:37:23 PDT 2009</td>\n",
       "      <td>NO_QUERY</td>\n",
       "      <td>skyducker</td>\n",
       "      <td>eh long weekend made two color viny banner pla...</td>\n",
       "    </tr>\n",
       "    <tr>\n",
       "      <th>420466</th>\n",
       "      <td>0</td>\n",
       "      <td>2062214606</td>\n",
       "      <td>Sat Jun 06 22:37:21 PDT 2009</td>\n",
       "      <td>NO_QUERY</td>\n",
       "      <td>lexxxthesex</td>\n",
       "      <td>hahaha wont sleeping day</td>\n",
       "    </tr>\n",
       "    <tr>\n",
       "      <th>1086059</th>\n",
       "      <td>4</td>\n",
       "      <td>1969266009</td>\n",
       "      <td>Fri May 29 23:30:17 PDT 2009</td>\n",
       "      <td>NO_QUERY</td>\n",
       "      <td>meghangillies</td>\n",
       "      <td>sleeping janices</td>\n",
       "    </tr>\n",
       "    <tr>\n",
       "      <th>977716</th>\n",
       "      <td>4</td>\n",
       "      <td>1833764522</td>\n",
       "      <td>Mon May 18 00:22:39 PDT 2009</td>\n",
       "      <td>NO_QUERY</td>\n",
       "      <td>phatrisha</td>\n",
       "      <td>currently watching paano ba ang mangarap</td>\n",
       "    </tr>\n",
       "    <tr>\n",
       "      <th>1032739</th>\n",
       "      <td>4</td>\n",
       "      <td>1933235680</td>\n",
       "      <td>Tue May 26 23:21:19 PDT 2009</td>\n",
       "      <td>NO_QUERY</td>\n",
       "      <td>jmleonoras</td>\n",
       "      <td>say chore mode sing along woot isang kaadikang...</td>\n",
       "    </tr>\n",
       "  </tbody>\n",
       "</table>\n",
       "</div>"
      ],
      "text/plain": [
       "         sentiment          id                          date     query  \\\n",
       "75592            0  1695242707  Mon May 04 05:37:23 PDT 2009  NO_QUERY   \n",
       "420466           0  2062214606  Sat Jun 06 22:37:21 PDT 2009  NO_QUERY   \n",
       "1086059          4  1969266009  Fri May 29 23:30:17 PDT 2009  NO_QUERY   \n",
       "977716           4  1833764522  Mon May 18 00:22:39 PDT 2009  NO_QUERY   \n",
       "1032739          4  1933235680  Tue May 26 23:21:19 PDT 2009  NO_QUERY   \n",
       "\n",
       "                  user                                               text  \n",
       "75592        skyducker  eh long weekend made two color viny banner pla...  \n",
       "420466     lexxxthesex                           hahaha wont sleeping day  \n",
       "1086059  meghangillies                                   sleeping janices  \n",
       "977716       phatrisha           currently watching paano ba ang mangarap  \n",
       "1032739     jmleonoras  say chore mode sing along woot isang kaadikang...  "
      ]
     },
     "metadata": {},
     "output_type": "display_data"
    }
   ],
   "source": [
    "#@title 3.1 Nettoyage du texte\n",
    "\n",
    "# Appliquer la fonction de nettoyage du module preprocessing\n",
    "df['text'] = df['text'].map(lambda tweet: clean_tweet(tweet))\n",
    "\n",
    "# Afficher les premières lignes du DataFrame avec les tweets nettoyés\n",
    "print(\"Premières lignes du DataFrame avec les tweets nettoyés :\")\n",
    "display(df.head())"
   ]
  },
  {
   "cell_type": "markdown",
   "metadata": {},
   "source": [
    "### 4.2 - Conversion des labels en 0 et 1"
   ]
  },
  {
   "cell_type": "code",
   "execution_count": 6,
   "metadata": {
    "execution": {
     "iopub.execute_input": "2025-02-11T10:36:52.396061Z",
     "iopub.status.busy": "2025-02-11T10:36:52.394997Z",
     "iopub.status.idle": "2025-02-11T10:36:52.403002Z",
     "shell.execute_reply": "2025-02-11T10:36:52.401937Z",
     "shell.execute_reply.started": "2025-02-11T10:36:52.396018Z"
    }
   },
   "outputs": [],
   "source": [
    "#@title Conversion des labels en 0 et 1\n",
    "\n",
    "df['sentiment'] = df['sentiment'].map({0: 0, 4: 1})  # Convertir les labels en 0 et 1"
   ]
  },
  {
   "cell_type": "markdown",
   "metadata": {},
   "source": [
    "### 4.3 - Vectorisation"
   ]
  },
  {
   "cell_type": "code",
   "execution_count": 7,
   "metadata": {
    "execution": {
     "iopub.execute_input": "2025-02-11T10:36:52.405001Z",
     "iopub.status.busy": "2025-02-11T10:36:52.404471Z",
     "iopub.status.idle": "2025-02-11T10:41:13.006304Z",
     "shell.execute_reply": "2025-02-11T10:41:13.005167Z",
     "shell.execute_reply.started": "2025-02-11T10:36:52.404962Z"
    }
   },
   "outputs": [],
   "source": [
    "#@title 3.3 Vectorisation\n",
    "\n",
    "from sklearn.model_selection import train_test_split\n",
    "\n",
    "# Diviser les données en ensembles d'entraînement et de test\n",
    "X_train, X_test, y_train, y_test = train_test_split(df['text'], \n",
    "                                                    df['sentiment'], \n",
    "                                                    stratify = df[\"sentiment\"],\n",
    "                                                    test_size=0.2)\n",
    "\n",
    "# Vectorisation TF-IDF\n",
    "X_train_tfidf, X_test_tfidf = vectorize_tfidf(X_train, X_test)\n",
    "\n",
    "# Vectorisation Word2Vec\n",
    "X_train_w2v, X_test_w2v = vectorize_word2vec(X_train, X_test)\n",
    "\n",
    "# Vectorisation Doc2Vec\n",
    "X_train_d2v, X_test_d2v = vectorize_doc2vec(X_train, X_test)"
   ]
  },
  {
   "cell_type": "markdown",
   "metadata": {},
   "source": [
    "### 4.4 - Réduction de dimensionnalité"
   ]
  },
  {
   "cell_type": "code",
   "execution_count": 8,
   "metadata": {
    "execution": {
     "iopub.execute_input": "2025-02-11T10:41:13.008402Z",
     "iopub.status.busy": "2025-02-11T10:41:13.007803Z",
     "iopub.status.idle": "2025-02-11T10:41:19.604888Z",
     "shell.execute_reply": "2025-02-11T10:41:19.603784Z",
     "shell.execute_reply.started": "2025-02-11T10:41:13.008351Z"
    }
   },
   "outputs": [],
   "source": [
    "#@title 3.4 Réduction de dimensionnalité\n",
    "\n",
    "# Réduction de dimensionnalité pour TF-IDF\n",
    "X_train_tfidf, X_test_tfidf = reduce_dimensionality(X_train_tfidf, \n",
    "                                                    X_test_tfidf,\n",
    "                                                    y_train,\n",
    "                                                    k=500,\n",
    "                                                    nom=\"tfidf\")\n",
    "\n",
    "# Réduction de dimensionnalité pour Word2Vec\n",
    "X_train_w2v, X_test_w2v = reduce_dimensionality(X_train_w2v,\n",
    "                                                X_test_w2v,\n",
    "                                                y_train,\n",
    "                                                k=500,\n",
    "                                                nom=\"word2vec\")\n",
    "\n",
    "# Réduction de dimensionnalité pour Doc2Vec\n",
    "X_train_d2v, X_test_d2v = reduce_dimensionality(X_train_d2v,\n",
    "                                                X_test_d2v,\n",
    "                                                y_train,\n",
    "                                                k=500,\n",
    "                                                nom=\"doc2vec\")"
   ]
  },
  {
   "cell_type": "markdown",
   "metadata": {},
   "source": [
    "## 5. Sauvegarde des données prétraitées"
   ]
  },
  {
   "cell_type": "code",
   "execution_count": 9,
   "metadata": {
    "execution": {
     "iopub.execute_input": "2025-02-11T10:41:19.607327Z",
     "iopub.status.busy": "2025-02-11T10:41:19.606418Z",
     "iopub.status.idle": "2025-02-11T10:41:24.140041Z",
     "shell.execute_reply": "2025-02-11T10:41:24.137518Z",
     "shell.execute_reply.started": "2025-02-11T10:41:19.607260Z"
    }
   },
   "outputs": [],
   "source": [
    "#@title 4.1 Sauvegarde des données\n",
    "\n",
    "import os\n",
    "import pickle \n",
    "\n",
    "# Chemin d'accès au dossier data\n",
    "data_path = '../data/processed/'\n",
    "\n",
    "# Créer le dossier s'il n'existe pas\n",
    "os.makedirs(data_path, exist_ok=True)\n",
    "\n",
    "\n",
    "# Sauvegarde des données X_train, y_train non vectorisées\n",
    "\n",
    "with open(data_path + f'X_train.pickle', 'wb') as f:\n",
    "    pickle.dump(X_train, f)\n",
    "with open(data_path + f'X_test.pickle', 'wb') as f:\n",
    "    pickle.dump(X_test, f)\n",
    "\n",
    "# Sauvegarde des données pour chaque méthode\n",
    "def save_data(X_train, X_test, methode):\n",
    "    with open(data_path + f'X_train_{methode}.pickle', 'wb') as f:\n",
    "        pickle.dump(X_train, f)\n",
    "    with open(data_path + f'X_test_{methode}.pickle', 'wb') as f:\n",
    "        pickle.dump(X_test, f)\n",
    "\n",
    "save_data(X_train_tfidf, X_test_tfidf, \"tfidf\")\n",
    "save_data(X_train_w2v, X_test_w2v, \"word2vec\")\n",
    "save_data(X_train_d2v, X_test_d2v, \"doc2vec\")\n",
    "\n",
    "# Sauvegarde de y_train et y_test\n",
    "with open(data_path + 'y_train.pickle', 'wb') as f:\n",
    "    pickle.dump(y_train, f)\n",
    "\n",
    "with open(data_path + 'y_test.pickle', 'wb') as f:\n",
    "    pickle.dump(y_test, f)"
   ]
  }
 ],
 "metadata": {
  "kernelspec": {
   "display_name": "Python 3 (ipykernel)",
   "language": "python",
   "name": "python3"
  },
  "language_info": {
   "codemirror_mode": {
    "name": "ipython",
    "version": 3
   },
   "file_extension": ".py",
   "mimetype": "text/x-python",
   "name": "python",
   "nbconvert_exporter": "python",
   "pygments_lexer": "ipython3",
   "version": "3.12.3"
  }
 },
 "nbformat": 4,
 "nbformat_minor": 4
}
