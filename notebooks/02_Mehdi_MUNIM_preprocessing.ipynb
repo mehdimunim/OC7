{
 "cells": [
  {
   "cell_type": "markdown",
   "metadata": {},
   "source": [
    "# Prétraitement des données de tweets\n",
    "\n",
    "Ce notebook prétraite les données de tweets en utilisant les fonctions définies dans le fichier `preprocessing.py`.\n",
    "\n",
    "Nous préparons nos données au machine learning (nettoyage, vectorisation)"
   ]
  },
  {
   "cell_type": "markdown",
   "metadata": {},
   "source": [
    "## 1 - Importations des librairies"
   ]
  },
  {
   "cell_type": "code",
   "execution_count": 1,
   "metadata": {
    "execution": {
     "iopub.execute_input": "2025-02-09T15:37:10.883707Z",
     "iopub.status.busy": "2025-02-09T15:37:10.880898Z",
     "iopub.status.idle": "2025-02-09T15:37:13.132889Z",
     "shell.execute_reply": "2025-02-09T15:37:13.131728Z",
     "shell.execute_reply.started": "2025-02-09T15:37:10.883618Z"
    }
   },
   "outputs": [],
   "source": [
    "import pandas as pd\n",
    "import seaborn as sns\n",
    "import matplotlib.pyplot as plt\n",
    "import sys\n",
    "\n",
    "# Ajouter le chemin du dossier src pour importer les modules\n",
    "sys.path.append('../src')\n",
    "from preprocessing import *\n",
    "from clean_tweet import *"
   ]
  },
  {
   "cell_type": "markdown",
   "metadata": {},
   "source": [
    "## 2. Chargement des données"
   ]
  },
  {
   "cell_type": "code",
   "execution_count": 2,
   "metadata": {
    "execution": {
     "iopub.execute_input": "2025-02-09T15:37:13.134490Z",
     "iopub.status.busy": "2025-02-09T15:37:13.133985Z",
     "iopub.status.idle": "2025-02-09T15:37:17.385927Z",
     "shell.execute_reply": "2025-02-09T15:37:17.384798Z",
     "shell.execute_reply.started": "2025-02-09T15:37:13.134456Z"
    }
   },
   "outputs": [
    {
     "name": "stdout",
     "output_type": "stream",
     "text": [
      "Premières lignes du DataFrame :\n"
     ]
    },
    {
     "data": {
      "text/html": [
       "<div>\n",
       "<style scoped>\n",
       "    .dataframe tbody tr th:only-of-type {\n",
       "        vertical-align: middle;\n",
       "    }\n",
       "\n",
       "    .dataframe tbody tr th {\n",
       "        vertical-align: top;\n",
       "    }\n",
       "\n",
       "    .dataframe thead th {\n",
       "        text-align: right;\n",
       "    }\n",
       "</style>\n",
       "<table border=\"1\" class=\"dataframe\">\n",
       "  <thead>\n",
       "    <tr style=\"text-align: right;\">\n",
       "      <th></th>\n",
       "      <th>sentiment</th>\n",
       "      <th>id</th>\n",
       "      <th>date</th>\n",
       "      <th>query</th>\n",
       "      <th>user</th>\n",
       "      <th>text</th>\n",
       "    </tr>\n",
       "  </thead>\n",
       "  <tbody>\n",
       "    <tr>\n",
       "      <th>0</th>\n",
       "      <td>0</td>\n",
       "      <td>1467810369</td>\n",
       "      <td>Mon Apr 06 22:19:45 PDT 2009</td>\n",
       "      <td>NO_QUERY</td>\n",
       "      <td>_TheSpecialOne_</td>\n",
       "      <td>@switchfoot http://twitpic.com/2y1zl - Awww, t...</td>\n",
       "    </tr>\n",
       "    <tr>\n",
       "      <th>1</th>\n",
       "      <td>0</td>\n",
       "      <td>1467810672</td>\n",
       "      <td>Mon Apr 06 22:19:49 PDT 2009</td>\n",
       "      <td>NO_QUERY</td>\n",
       "      <td>scotthamilton</td>\n",
       "      <td>is upset that he can't update his Facebook by ...</td>\n",
       "    </tr>\n",
       "    <tr>\n",
       "      <th>2</th>\n",
       "      <td>0</td>\n",
       "      <td>1467810917</td>\n",
       "      <td>Mon Apr 06 22:19:53 PDT 2009</td>\n",
       "      <td>NO_QUERY</td>\n",
       "      <td>mattycus</td>\n",
       "      <td>@Kenichan I dived many times for the ball. Man...</td>\n",
       "    </tr>\n",
       "    <tr>\n",
       "      <th>3</th>\n",
       "      <td>0</td>\n",
       "      <td>1467811184</td>\n",
       "      <td>Mon Apr 06 22:19:57 PDT 2009</td>\n",
       "      <td>NO_QUERY</td>\n",
       "      <td>ElleCTF</td>\n",
       "      <td>my whole body feels itchy and like its on fire</td>\n",
       "    </tr>\n",
       "    <tr>\n",
       "      <th>4</th>\n",
       "      <td>0</td>\n",
       "      <td>1467811193</td>\n",
       "      <td>Mon Apr 06 22:19:57 PDT 2009</td>\n",
       "      <td>NO_QUERY</td>\n",
       "      <td>Karoli</td>\n",
       "      <td>@nationwideclass no, it's not behaving at all....</td>\n",
       "    </tr>\n",
       "  </tbody>\n",
       "</table>\n",
       "</div>"
      ],
      "text/plain": [
       "   sentiment          id                          date     query  \\\n",
       "0          0  1467810369  Mon Apr 06 22:19:45 PDT 2009  NO_QUERY   \n",
       "1          0  1467810672  Mon Apr 06 22:19:49 PDT 2009  NO_QUERY   \n",
       "2          0  1467810917  Mon Apr 06 22:19:53 PDT 2009  NO_QUERY   \n",
       "3          0  1467811184  Mon Apr 06 22:19:57 PDT 2009  NO_QUERY   \n",
       "4          0  1467811193  Mon Apr 06 22:19:57 PDT 2009  NO_QUERY   \n",
       "\n",
       "              user                                               text  \n",
       "0  _TheSpecialOne_  @switchfoot http://twitpic.com/2y1zl - Awww, t...  \n",
       "1    scotthamilton  is upset that he can't update his Facebook by ...  \n",
       "2         mattycus  @Kenichan I dived many times for the ball. Man...  \n",
       "3          ElleCTF    my whole body feels itchy and like its on fire   \n",
       "4           Karoli  @nationwideclass no, it's not behaving at all....  "
      ]
     },
     "metadata": {},
     "output_type": "display_data"
    }
   ],
   "source": [
    "#@title 2.1 Chargement des données\n",
    "\n",
    "# Charger les données du fichier CSV\n",
    "df = pd.read_csv('../data/raw/training.1600000.processed.noemoticon.csv', encoding='latin-1', header=None)\n",
    "\n",
    "# Renommer les colonnes\n",
    "df.columns = ['sentiment', 'id', 'date', 'query', 'user', 'text']\n",
    "\n",
    "# Afficher les premières lignes du DataFrame\n",
    "print(\"Premières lignes du DataFrame :\")\n",
    "display(df.head())"
   ]
  },
  {
   "cell_type": "markdown",
   "metadata": {},
   "source": [
    "## 3. Échantillonage des données"
   ]
  },
  {
   "cell_type": "code",
   "execution_count": 3,
   "metadata": {
    "execution": {
     "iopub.execute_input": "2025-02-09T15:37:17.389802Z",
     "iopub.status.busy": "2025-02-09T15:37:17.389010Z",
     "iopub.status.idle": "2025-02-09T15:37:19.125796Z",
     "shell.execute_reply": "2025-02-09T15:37:19.124636Z",
     "shell.execute_reply.started": "2025-02-09T15:37:17.389753Z"
    }
   },
   "outputs": [],
   "source": [
    "\n",
    "# Mélanger les données\n",
    "df = df.sample(frac=1)\n",
    "\n",
    "# Échantillonner 10 % des données\n",
    "df = df.sample(frac=0.1)"
   ]
  },
  {
   "cell_type": "code",
   "execution_count": 4,
   "metadata": {
    "execution": {
     "iopub.execute_input": "2025-02-09T15:37:19.128200Z",
     "iopub.status.busy": "2025-02-09T15:37:19.127340Z",
     "iopub.status.idle": "2025-02-09T15:37:19.731951Z",
     "shell.execute_reply": "2025-02-09T15:37:19.730721Z",
     "shell.execute_reply.started": "2025-02-09T15:37:19.128163Z"
    }
   },
   "outputs": [
    {
     "data": {
      "image/png": "[encoded data removed]",
      "text/plain": [
       "<Figure size 800x600 with 1 Axes>"
      ]
     },
     "metadata": {},
     "output_type": "display_data"
    }
   ],
   "source": [
    "# Afficher la distribution des sentiments après l'échantillonnage\n",
    "plt.figure(figsize=(8, 6))\n",
    "ax = sns.countplot(x='sentiment', data=df)\n",
    "\n",
    "# Ajouter les annotations sur les barres\n",
    "for p in ax.patches:\n",
    "    ax.annotate(f'{p.get_height()}', (p.get_x() + p.get_width() / 2., p.get_height()),\n",
    "                ha='center', va='center', fontsize=10, color='black', xytext=(0, 5),\n",
    "                textcoords='offset points')\n",
    "\n",
    "plt.title('Distribution des sentiments après échantillonnage')\n",
    "plt.show()\n"
   ]
  },
  {
   "cell_type": "markdown",
   "metadata": {},
   "source": [
    "Après sampling, les classes restent bien équilibrées entre sentiment 4 (positif) et sentiment 0 (négatif)"
   ]
  },
  {
   "cell_type": "markdown",
   "metadata": {},
   "source": [
    "## 4. Prétraitement des données"
   ]
  },
  {
   "cell_type": "markdown",
   "metadata": {},
   "source": [
    "### 4.1 - Nettoyage du texte"
   ]
  },
  {
   "cell_type": "code",
   "execution_count": 5,
   "metadata": {
    "execution": {
     "iopub.execute_input": "2025-02-09T15:37:19.733838Z",
     "iopub.status.busy": "2025-02-09T15:37:19.733144Z",
     "iopub.status.idle": "2025-02-09T15:37:50.005875Z",
     "shell.execute_reply": "2025-02-09T15:37:50.004720Z",
     "shell.execute_reply.started": "2025-02-09T15:37:19.733783Z"
    }
   },
   "outputs": [
    {
     "name": "stdout",
     "output_type": "stream",
     "text": [
      "Premières lignes du DataFrame avec les tweets nettoyés :\n"
     ]
    },
    {
     "data": {
      "text/html": [
       "<div>\n",
       "<style scoped>\n",
       "    .dataframe tbody tr th:only-of-type {\n",
       "        vertical-align: middle;\n",
       "    }\n",
       "\n",
       "    .dataframe tbody tr th {\n",
       "        vertical-align: top;\n",
       "    }\n",
       "\n",
       "    .dataframe thead th {\n",
       "        text-align: right;\n",
       "    }\n",
       "</style>\n",
       "<table border=\"1\" class=\"dataframe\">\n",
       "  <thead>\n",
       "    <tr style=\"text-align: right;\">\n",
       "      <th></th>\n",
       "      <th>sentiment</th>\n",
       "      <th>id</th>\n",
       "      <th>date</th>\n",
       "      <th>query</th>\n",
       "      <th>user</th>\n",
       "      <th>text</th>\n",
       "    </tr>\n",
       "  </thead>\n",
       "  <tbody>\n",
       "    <tr>\n",
       "      <th>439945</th>\n",
       "      <td>0</td>\n",
       "      <td>2066573163</td>\n",
       "      <td>Sun Jun 07 10:46:26 PDT 2009</td>\n",
       "      <td>NO_QUERY</td>\n",
       "      <td>iNordli18</td>\n",
       "      <td>want make video youtube toughts everything app...</td>\n",
       "    </tr>\n",
       "    <tr>\n",
       "      <th>133599</th>\n",
       "      <td>0</td>\n",
       "      <td>1836041040</td>\n",
       "      <td>Mon May 18 07:15:24 PDT 2009</td>\n",
       "      <td>NO_QUERY</td>\n",
       "      <td>kateweb</td>\n",
       "      <td>feel bad going wednesday skeptic pub believe w...</td>\n",
       "    </tr>\n",
       "    <tr>\n",
       "      <th>558886</th>\n",
       "      <td>0</td>\n",
       "      <td>2204856918</td>\n",
       "      <td>Wed Jun 17 03:18:55 PDT 2009</td>\n",
       "      <td>NO_QUERY</td>\n",
       "      <td>nicoladolby</td>\n",
       "      <td>way early form waiting around</td>\n",
       "    </tr>\n",
       "    <tr>\n",
       "      <th>1213589</th>\n",
       "      <td>4</td>\n",
       "      <td>1989364678</td>\n",
       "      <td>Mon Jun 01 01:16:11 PDT 2009</td>\n",
       "      <td>NO_QUERY</td>\n",
       "      <td>CintyMiginty</td>\n",
       "      <td>umm chicken skewer thing hanging sauce dripped...</td>\n",
       "    </tr>\n",
       "    <tr>\n",
       "      <th>114057</th>\n",
       "      <td>0</td>\n",
       "      <td>1826099634</td>\n",
       "      <td>Sun May 17 07:42:12 PDT 2009</td>\n",
       "      <td>NO_QUERY</td>\n",
       "      <td>funkyfairy24</td>\n",
       "      <td>boy soooo quiet today better get tweet later xxx</td>\n",
       "    </tr>\n",
       "  </tbody>\n",
       "</table>\n",
       "</div>"
      ],
      "text/plain": [
       "         sentiment          id                          date     query  \\\n",
       "439945           0  2066573163  Sun Jun 07 10:46:26 PDT 2009  NO_QUERY   \n",
       "133599           0  1836041040  Mon May 18 07:15:24 PDT 2009  NO_QUERY   \n",
       "558886           0  2204856918  Wed Jun 17 03:18:55 PDT 2009  NO_QUERY   \n",
       "1213589          4  1989364678  Mon Jun 01 01:16:11 PDT 2009  NO_QUERY   \n",
       "114057           0  1826099634  Sun May 17 07:42:12 PDT 2009  NO_QUERY   \n",
       "\n",
       "                 user                                               text  \n",
       "439945      iNordli18  want make video youtube toughts everything app...  \n",
       "133599        kateweb  feel bad going wednesday skeptic pub believe w...  \n",
       "558886    nicoladolby                      way early form waiting around  \n",
       "1213589  CintyMiginty  umm chicken skewer thing hanging sauce dripped...  \n",
       "114057   funkyfairy24   boy soooo quiet today better get tweet later xxx  "
      ]
     },
     "metadata": {},
     "output_type": "display_data"
    }
   ],
   "source": [
    "#@title 3.1 Nettoyage du texte\n",
    "\n",
    "# Appliquer la fonction de nettoyage du module preprocessing\n",
    "df['text'] = df['text'].map(lambda tweet: clean_tweet(tweet))\n",
    "\n",
    "# Afficher les premières lignes du DataFrame avec les tweets nettoyés\n",
    "print(\"Premières lignes du DataFrame avec les tweets nettoyés :\")\n",
    "display(df.head())"
   ]
  },
  {
   "cell_type": "markdown",
   "metadata": {},
   "source": [
    "### 4.2 - Conversion des labels en 0 et 1"
   ]
  },
  {
   "cell_type": "code",
   "execution_count": 6,
   "metadata": {
    "execution": {
     "iopub.execute_input": "2025-02-09T15:37:50.007361Z",
     "iopub.status.busy": "2025-02-09T15:37:50.006929Z",
     "iopub.status.idle": "2025-02-09T15:37:50.018558Z",
     "shell.execute_reply": "2025-02-09T15:37:50.016565Z",
     "shell.execute_reply.started": "2025-02-09T15:37:50.007327Z"
    }
   },
   "outputs": [],
   "source": [
    "#@title Conversion des labels en 0 et 1\n",
    "\n",
    "df['sentiment'] = df['sentiment'].map({0: 0, 4: 1})  # Convertir les labels en 0 et 1"
   ]
  },
  {
   "cell_type": "markdown",
   "metadata": {},
   "source": [
    "### 4.3 - Vectorisation"
   ]
  },
  {
   "cell_type": "code",
   "execution_count": 7,
   "metadata": {
    "execution": {
     "iopub.execute_input": "2025-02-09T15:37:50.022904Z",
     "iopub.status.busy": "2025-02-09T15:37:50.021799Z",
     "iopub.status.idle": "2025-02-09T15:42:16.890169Z",
     "shell.execute_reply": "2025-02-09T15:42:16.887349Z",
     "shell.execute_reply.started": "2025-02-09T15:37:50.022842Z"
    }
   },
   "outputs": [],
   "source": [
    "#@title 3.3 Vectorisation\n",
    "\n",
    "from sklearn.model_selection import train_test_split\n",
    "\n",
    "# Diviser les données en ensembles d'entraînement et de test\n",
    "X_train, X_test, y_train, y_test = train_test_split(df['text'], \n",
    "                                                    df['sentiment'], \n",
    "                                                    test_size=0.2)\n",
    "\n",
    "# Vectorisation TF-IDF\n",
    "X_train_tfidf, X_test_tfidf = vectorize_tfidf(X_train, X_test)\n",
    "\n",
    "# Vectorisation Word2Vec\n",
    "X_train_w2v, X_test_w2v = vectorize_word2vec(X_train, X_test)\n",
    "\n",
    "# Vectorisation Doc2Vec\n",
    "X_train_d2v, X_test_d2v = vectorize_doc2vec(X_train, X_test)"
   ]
  },
  {
   "cell_type": "markdown",
   "metadata": {},
   "source": [
    "### 4.4 - Réduction de dimensionnalité"
   ]
  },
  {
   "cell_type": "code",
   "execution_count": 8,
   "metadata": {
    "execution": {
     "iopub.execute_input": "2025-02-09T15:42:16.892039Z",
     "iopub.status.busy": "2025-02-09T15:42:16.891526Z",
     "iopub.status.idle": "2025-02-09T15:42:23.837595Z",
     "shell.execute_reply": "2025-02-09T15:42:23.836458Z",
     "shell.execute_reply.started": "2025-02-09T15:42:16.891997Z"
    }
   },
   "outputs": [],
   "source": [
    "#@title 3.4 Réduction de dimensionnalité\n",
    "\n",
    "# Réduction de dimensionnalité pour TF-IDF\n",
    "X_train_tfidf, X_test_tfidf = reduce_dimensionality(X_train_tfidf, \n",
    "                                                    X_test_tfidf,\n",
    "                                                    y_train,\n",
    "                                                    k=1000,\n",
    "                                                    nom=\"tfidf\")\n",
    "\n",
    "# Réduction de dimensionnalité pour Word2Vec\n",
    "X_train_w2v, X_test_w2v = reduce_dimensionality(X_train_w2v,\n",
    "                                                X_test_w2v,\n",
    "                                                y_train,\n",
    "                                                k=500,\n",
    "                                                nom=\"word2vec\")\n",
    "\n",
    "# Réduction de dimensionnalité pour Doc2Vec\n",
    "X_train_d2v, X_test_d2v = reduce_dimensionality(X_train_d2v,\n",
    "                                                X_test_d2v,\n",
    "                                                y_train,\n",
    "                                                k=500,\n",
    "                                                nom=\"doc2vec\")"
   ]
  },
  {
   "cell_type": "markdown",
   "metadata": {},
   "source": [
    "## 5. Sauvegarde des données prétraitées"
   ]
  },
  {
   "cell_type": "code",
   "execution_count": 9,
   "metadata": {
    "execution": {
     "iopub.execute_input": "2025-02-09T15:42:23.839343Z",
     "iopub.status.busy": "2025-02-09T15:42:23.838812Z",
     "iopub.status.idle": "2025-02-09T15:42:28.661089Z",
     "shell.execute_reply": "2025-02-09T15:42:28.660154Z",
     "shell.execute_reply.started": "2025-02-09T15:42:23.839302Z"
    }
   },
   "outputs": [],
   "source": [
    "#@title 4.1 Sauvegarde des données\n",
    "\n",
    "import os\n",
    "import pickle \n",
    "\n",
    "# Chemin d'accès au dossier data\n",
    "data_path = '../data/processed/'\n",
    "\n",
    "# Créer le dossier s'il n'existe pas\n",
    "os.makedirs(data_path, exist_ok=True)\n",
    "\n",
    "\n",
    "# Sauvegarde des données X_train, y_train non vectorisées\n",
    "\n",
    "with open(data_path + f'X_train.pickle', 'wb') as f:\n",
    "    pickle.dump(X_train, f)\n",
    "with open(data_path + f'X_test.pickle', 'wb') as f:\n",
    "    pickle.dump(X_test, f)\n",
    "\n",
    "# Sauvegarde des données pour chaque méthode\n",
    "def save_data(X_train, X_test, methode):\n",
    "    with open(data_path + f'X_train_{methode}.pickle', 'wb') as f:\n",
    "        pickle.dump(X_train, f)\n",
    "    with open(data_path + f'X_test_{methode}.pickle', 'wb') as f:\n",
    "        pickle.dump(X_test, f)\n",
    "\n",
    "save_data(X_train_tfidf, X_test_tfidf, \"tfidf\")\n",
    "save_data(X_train_w2v, X_test_w2v, \"word2vec\")\n",
    "save_data(X_train_d2v, X_test_d2v, \"doc2vec\")\n",
    "\n",
    "# Sauvegarde de y_train et y_test\n",
    "with open(data_path + 'y_train.pickle', 'wb') as f:\n",
    "    pickle.dump(y_train, f)\n",
    "\n",
    "with open(data_path + 'y_test.pickle', 'wb') as f:\n",
    "    pickle.dump(y_test, f)"
   ]
  }
 ],
 "metadata": {
  "kernelspec": {
   "display_name": "Python 3 (ipykernel)",
   "language": "python",
   "name": "python3"
  },
  "language_info": {
   "codemirror_mode": {
    "name": "ipython",
    "version": 3
   },
   "file_extension": ".py",
   "mimetype": "text/x-python",
   "name": "python",
   "nbconvert_exporter": "python",
   "pygments_lexer": "ipython3",
   "version": "3.8.20"
  }
 },
 "nbformat": 4,
 "nbformat_minor": 4
}
