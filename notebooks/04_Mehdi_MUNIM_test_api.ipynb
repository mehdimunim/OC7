{
 "cells": [
  {
   "cell_type": "code",
   "execution_count": 1,
   "id": "f7d31371",
   "metadata": {
    "editable": true,
    "execution": {
     "iopub.execute_input": "2024-12-27T20:25:15.241428Z",
     "iopub.status.busy": "2024-12-27T20:25:15.239995Z",
     "iopub.status.idle": "2024-12-27T20:25:15.474859Z",
     "shell.execute_reply": "2024-12-27T20:25:15.473449Z",
     "shell.execute_reply.started": "2024-12-27T20:25:15.241322Z"
    },
    "slideshow": {
     "slide_type": ""
    },
    "tags": []
   },
   "outputs": [],
   "source": [
    "import requests\n",
    "import json\n",
    "import ipywidgets as widgets\n",
    "from IPython.display import display"
   ]
  },
  {
   "cell_type": "code",
   "execution_count": 2,
   "id": "8604b16a",
   "metadata": {
    "execution": {
     "iopub.execute_input": "2024-12-27T20:25:15.476670Z",
     "iopub.status.busy": "2024-12-27T20:25:15.476350Z",
     "iopub.status.idle": "2024-12-27T20:25:15.483862Z",
     "shell.execute_reply": "2024-12-27T20:25:15.482698Z",
     "shell.execute_reply.started": "2024-12-27T20:25:15.476638Z"
    }
   },
   "outputs": [],
   "source": [
    "def predict_sentiment(tweet):\n",
    "    url = 'https://mehdimunim.pythonanywhere.com/predict'  # URL de l'API\n",
    "    data = {'tweet': tweet}\n",
    "    response = requests.post(url, data=data)\n",
    "    return response.json()['sentiment']"
   ]
  },
  {
   "cell_type": "code",
   "execution_count": 3,
   "id": "af3753d2",
   "metadata": {
    "execution": {
     "iopub.execute_input": "2024-12-27T20:25:15.486440Z",
     "iopub.status.busy": "2024-12-27T20:25:15.485933Z",
     "iopub.status.idle": "2024-12-27T20:25:15.520094Z",
     "shell.execute_reply": "2024-12-27T20:25:15.517175Z",
     "shell.execute_reply.started": "2024-12-27T20:25:15.486386Z"
    }
   },
   "outputs": [
    {
     "data": {
      "application/vnd.jupyter.widget-view+json": {
       "model_id": "3d6df239a327471c918a3e27f57b2be1",
       "version_major": 2,
       "version_minor": 0
      },
      "text/plain": [
       "Text(value='', description='Tweet:', placeholder='Entrez un tweet')"
      ]
     },
     "metadata": {},
     "output_type": "display_data"
    },
    {
     "data": {
      "application/vnd.jupyter.widget-view+json": {
       "model_id": "101c59041fc84d3a990db6418ab055e5",
       "version_major": 2,
       "version_minor": 0
      },
      "text/plain": [
       "Button(description='Prédire', style=ButtonStyle())"
      ]
     },
     "metadata": {},
     "output_type": "display_data"
    }
   ],
   "source": [
    "# Créer un widget pour saisir le tweet\n",
    "tweet_input = widgets.Text(\n",
    "    value='',\n",
    "    placeholder='Entrez un tweet',\n",
    "    description='Tweet:',\n",
    "    disabled=False\n",
    ")\n",
    "\n",
    "# Créer un bouton pour envoyer la requête\n",
    "button = widgets.Button(description=\"Prédire\")\n",
    "\n",
    "# Fonction pour afficher le résultat\n",
    "def on_button_clicked(b):\n",
    "    tweet = tweet_input.value\n",
    "    sentiment = predict_sentiment(tweet)\n",
    "    print(f\"Sentiment prédit : {sentiment}\")\n",
    "\n",
    "# Lier le bouton à la fonction\n",
    "button.on_click(on_button_clicked)\n",
    "\n",
    "# Afficher les widgets\n",
    "display(tweet_input, button)"
   ]
  },
  {
   "cell_type": "code",
   "execution_count": null,
   "id": "417f302a",
   "metadata": {},
   "outputs": [],
   "source": []
  }
 ],
 "metadata": {
  "kernelspec": {
   "display_name": "Python 3 (ipykernel)",
   "language": "python",
   "name": "python3"
  },
  "language_info": {
   "codemirror_mode": {
    "name": "ipython",
    "version": 3
   },
   "file_extension": ".py",
   "mimetype": "text/x-python",
   "name": "python",
   "nbconvert_exporter": "python",
   "pygments_lexer": "ipython3",
   "version": "3.8.20"
  }
 },
 "nbformat": 4,
 "nbformat_minor": 5
}
