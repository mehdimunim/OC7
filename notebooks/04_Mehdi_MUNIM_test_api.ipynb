{
 "cells": [
  {
   "cell_type": "code",
   "execution_count": 4,
   "id": "f7d31371",
   "metadata": {
    "editable": true,
    "execution": {
     "iopub.execute_input": "2024-12-27T20:07:43.860023Z",
     "iopub.status.busy": "2024-12-27T20:07:43.859094Z",
     "iopub.status.idle": "2024-12-27T20:07:43.873314Z",
     "shell.execute_reply": "2024-12-27T20:07:43.869969Z",
     "shell.execute_reply.started": "2024-12-27T20:07:43.859924Z"
    },
    "slideshow": {
     "slide_type": ""
    },
    "tags": []
   },
   "outputs": [],
   "source": [
    "import requests\n",
    "import json\n",
    "import ipywidgets as widgets\n",
    "from IPython.display import display"
   ]
  },
  {
   "cell_type": "code",
   "execution_count": 5,
   "id": "8604b16a",
   "metadata": {
    "execution": {
     "iopub.execute_input": "2024-12-27T20:07:44.497503Z",
     "iopub.status.busy": "2024-12-27T20:07:44.496514Z",
     "iopub.status.idle": "2024-12-27T20:07:44.507326Z",
     "shell.execute_reply": "2024-12-27T20:07:44.506018Z",
     "shell.execute_reply.started": "2024-12-27T20:07:44.497454Z"
    }
   },
   "outputs": [],
   "source": [
    "def predict_sentiment(tweet):\n",
    "    url = 'mehdimunim.pythonanywhere.com/predict'  # URL de l'API\n",
    "    data = {'tweet': tweet}\n",
    "    response = requests.post(url, data=data)\n",
    "    return response.json()['sentiment']"
   ]
  },
  {
   "cell_type": "code",
   "execution_count": 6,
   "id": "af3753d2",
   "metadata": {
    "execution": {
     "iopub.execute_input": "2024-12-27T20:07:45.289245Z",
     "iopub.status.busy": "2024-12-27T20:07:45.288253Z",
     "iopub.status.idle": "2024-12-27T20:07:45.305595Z",
     "shell.execute_reply": "2024-12-27T20:07:45.303944Z",
     "shell.execute_reply.started": "2024-12-27T20:07:45.289198Z"
    }
   },
   "outputs": [
    {
     "data": {
      "application/vnd.jupyter.widget-view+json": {
       "model_id": "f5a291bc58054a708e690c9f77076bdb",
       "version_major": 2,
       "version_minor": 0
      },
      "text/plain": [
       "Text(value='', description='Tweet:', placeholder='Entrez un tweet')"
      ]
     },
     "metadata": {},
     "output_type": "display_data"
    },
    {
     "data": {
      "application/vnd.jupyter.widget-view+json": {
       "model_id": "1ea19a11f30a4a5b87cf68e8e813e9ef",
       "version_major": 2,
       "version_minor": 0
      },
      "text/plain": [
       "Button(description='Prédire', style=ButtonStyle())"
      ]
     },
     "metadata": {},
     "output_type": "display_data"
    }
   ],
   "source": [
    "# Créer un widget pour saisir le tweet\n",
    "tweet_input = widgets.Text(\n",
    "    value='',\n",
    "    placeholder='Entrez un tweet',\n",
    "    description='Tweet:',\n",
    "    disabled=False\n",
    ")\n",
    "\n",
    "# Créer un bouton pour envoyer la requête\n",
    "button = widgets.Button(description=\"Prédire\")\n",
    "\n",
    "# Fonction pour afficher le résultat\n",
    "def on_button_clicked(b):\n",
    "    tweet = tweet_input.value\n",
    "    sentiment = predict_sentiment(tweet)\n",
    "    print(f\"Sentiment prédit : {sentiment}\")\n",
    "\n",
    "# Lier le bouton à la fonction\n",
    "button.on_click(on_button_clicked)\n",
    "\n",
    "# Afficher les widgets\n",
    "display(tweet_input, button)"
   ]
  },
  {
   "cell_type": "code",
   "execution_count": null,
   "id": "417f302a",
   "metadata": {},
   "outputs": [],
   "source": []
  }
 ],
 "metadata": {
  "kernelspec": {
   "display_name": "Python 3 (ipykernel)",
   "language": "python",
   "name": "python3"
  },
  "language_info": {
   "codemirror_mode": {
    "name": "ipython",
    "version": 3
   },
   "file_extension": ".py",
   "mimetype": "text/x-python",
   "name": "python",
   "nbconvert_exporter": "python",
   "pygments_lexer": "ipython3",
   "version": "3.8.20"
  }
 },
 "nbformat": 4,
 "nbformat_minor": 5
}
