{
 "cells": [
  {
   "cell_type": "code",
   "execution_count": 1,
   "id": "f7d31371",
   "metadata": {},
   "outputs": [],
   "source": [
    "import requests\n",
    "import json\n",
    "import ipywidgets as widgets\n",
    "from IPython.display import display"
   ]
  },
  {
   "cell_type": "code",
   "execution_count": 2,
   "id": "8604b16a",
   "metadata": {},
   "outputs": [],
   "source": [
    "def predict_sentiment(tweet):\n",
    "    url = 'http://127.0.0.1:5000/predict'  # URL de ton API\n",
    "    data = {'tweet': tweet}\n",
    "    response = requests.post(url, data=data)\n",
    "    return response.json()['sentiment']"
   ]
  },
  {
   "cell_type": "code",
   "execution_count": 5,
   "id": "af3753d2",
   "metadata": {},
   "outputs": [
    {
     "data": {
      "application/vnd.jupyter.widget-view+json": {
       "model_id": "cee82a52726b44c4a8d7181d225b8690",
       "version_major": 2,
       "version_minor": 0
      },
      "text/plain": [
       "Text(value='', description='Tweet:', placeholder='Entrez un tweet')"
      ]
     },
     "metadata": {},
     "output_type": "display_data"
    },
    {
     "data": {
      "application/vnd.jupyter.widget-view+json": {
       "model_id": "5968d92e3fb342a982b1b55825b3abd8",
       "version_major": 2,
       "version_minor": 0
      },
      "text/plain": [
       "Button(description='Prédire', style=ButtonStyle())"
      ]
     },
     "metadata": {},
     "output_type": "display_data"
    },
    {
     "name": "stdout",
     "output_type": "stream",
     "text": [
      "Sentiment prédit : 1\n",
      "Sentiment prédit : 1\n",
      "Sentiment prédit : 1\n",
      "Sentiment prédit : 1\n",
      "Sentiment prédit : 1\n"
     ]
    }
   ],
   "source": [
    "# Créer un widget pour saisir le tweet\n",
    "tweet_input = widgets.Text(\n",
    "    value='',\n",
    "    placeholder='Entrez un tweet',\n",
    "    description='Tweet:',\n",
    "    disabled=False\n",
    ")\n",
    "\n",
    "# Créer un bouton pour envoyer la requête\n",
    "button = widgets.Button(description=\"Prédire\")\n",
    "\n",
    "# Fonction pour afficher le résultat\n",
    "def on_button_clicked(b):\n",
    "    tweet = tweet_input.value\n",
    "    sentiment = predict_sentiment(tweet)\n",
    "    print(f\"Sentiment prédit : {sentiment}\")\n",
    "\n",
    "# Lier le bouton à la fonction\n",
    "button.on_click(on_button_clicked)\n",
    "\n",
    "# Afficher les widgets\n",
    "display(tweet_input, button)"
   ]
  },
  {
   "cell_type": "code",
   "execution_count": null,
   "id": "417f302a",
   "metadata": {},
   "outputs": [],
   "source": []
  }
 ],
 "metadata": {
  "kernelspec": {
   "display_name": "Python 3 (ipykernel)",
   "language": "python",
   "name": "python3"
  },
  "language_info": {
   "codemirror_mode": {
    "name": "ipython",
    "version": 3
   },
   "file_extension": ".py",
   "mimetype": "text/x-python",
   "name": "python",
   "nbconvert_exporter": "python",
   "pygments_lexer": "ipython3",
   "version": "3.8.20"
  }
 },
 "nbformat": 4,
 "nbformat_minor": 5
}
