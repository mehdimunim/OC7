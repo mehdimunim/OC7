{
 "cells": [
  {
   "cell_type": "code",
   "execution_count": 1,
   "id": "f7d31371",
   "metadata": {
    "editable": true,
    "execution": {
     "iopub.execute_input": "2024-12-16T19:38:06.938586Z",
     "iopub.status.busy": "2024-12-16T19:38:06.937202Z",
     "iopub.status.idle": "2024-12-16T19:38:07.139790Z",
     "shell.execute_reply": "2024-12-16T19:38:07.138723Z",
     "shell.execute_reply.started": "2024-12-16T19:38:06.938524Z"
    },
    "slideshow": {
     "slide_type": ""
    },
    "tags": []
   },
   "outputs": [],
   "source": [
    "import requests\n",
    "import json\n",
    "import ipywidgets as widgets\n",
    "from IPython.display import display"
   ]
  },
  {
   "cell_type": "code",
   "execution_count": 2,
   "id": "8604b16a",
   "metadata": {
    "execution": {
     "iopub.execute_input": "2024-12-16T19:38:07.142331Z",
     "iopub.status.busy": "2024-12-16T19:38:07.141790Z",
     "iopub.status.idle": "2024-12-16T19:38:07.147677Z",
     "shell.execute_reply": "2024-12-16T19:38:07.146612Z",
     "shell.execute_reply.started": "2024-12-16T19:38:07.142296Z"
    }
   },
   "outputs": [],
   "source": [
    "def predict_sentiment(tweet):\n",
    "    url = 'http://127.0.0.1:5000/predict'  # URL de ton API\n",
    "    data = {'tweet': tweet}\n",
    "    response = requests.post(url, data=data)\n",
    "    return response.json()['sentiment']"
   ]
  },
  {
   "cell_type": "code",
   "execution_count": 5,
   "id": "af3753d2",
   "metadata": {
    "execution": {
     "iopub.execute_input": "2024-12-16T19:38:37.369697Z",
     "iopub.status.busy": "2024-12-16T19:38:37.364121Z",
     "iopub.status.idle": "2024-12-16T19:38:37.421574Z",
     "shell.execute_reply": "2024-12-16T19:38:37.416604Z",
     "shell.execute_reply.started": "2024-12-16T19:38:37.369509Z"
    }
   },
   "outputs": [
    {
     "data": {
      "application/vnd.jupyter.widget-view+json": {
       "model_id": "1537261d24fe4a6cb027c42f52eee16d",
       "version_major": 2,
       "version_minor": 0
      },
      "text/plain": [
       "Text(value='', description='Tweet:', placeholder='Entrez un tweet')"
      ]
     },
     "metadata": {},
     "output_type": "display_data"
    },
    {
     "data": {
      "application/vnd.jupyter.widget-view+json": {
       "model_id": "90c1e2e8f41141eba3b36fbc4a07e382",
       "version_major": 2,
       "version_minor": 0
      },
      "text/plain": [
       "Button(description='Prédire', style=ButtonStyle())"
      ]
     },
     "metadata": {},
     "output_type": "display_data"
    }
   ],
   "source": [
    "# Créer un widget pour saisir le tweet\n",
    "tweet_input = widgets.Text(\n",
    "    value='',\n",
    "    placeholder='Entrez un tweet',\n",
    "    description='Tweet:',\n",
    "    disabled=False\n",
    ")\n",
    "\n",
    "# Créer un bouton pour envoyer la requête\n",
    "button = widgets.Button(description=\"Prédire\")\n",
    "\n",
    "# Fonction pour afficher le résultat\n",
    "def on_button_clicked(b):\n",
    "    tweet = tweet_input.value\n",
    "    sentiment = predict_sentiment(tweet)\n",
    "    print(f\"Sentiment prédit : {sentiment}\")\n",
    "\n",
    "# Lier le bouton à la fonction\n",
    "button.on_click(on_button_clicked)\n",
    "\n",
    "# Afficher les widgets\n",
    "display(tweet_input, button)"
   ]
  },
  {
   "cell_type": "code",
   "execution_count": null,
   "id": "417f302a",
   "metadata": {},
   "outputs": [],
   "source": []
  }
 ],
 "metadata": {
  "kernelspec": {
   "display_name": "Python 3 (ipykernel)",
   "language": "python",
   "name": "python3"
  },
  "language_info": {
   "codemirror_mode": {
    "name": "ipython",
    "version": 3
   },
   "file_extension": ".py",
   "mimetype": "text/x-python",
   "name": "python",
   "nbconvert_exporter": "python",
   "pygments_lexer": "ipython3",
   "version": "3.8.20"
  }
 },
 "nbformat": 4,
 "nbformat_minor": 5
}
